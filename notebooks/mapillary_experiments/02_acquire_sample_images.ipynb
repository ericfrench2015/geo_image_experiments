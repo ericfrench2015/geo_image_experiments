{
 "cells": [
  {
   "cell_type": "markdown",
   "id": "e95ea660-1439-4ec8-a3fd-b135f0a347e5",
   "metadata": {},
   "source": [
    "## Load sampled images and download detailed metadata"
   ]
  },
  {
   "cell_type": "code",
   "execution_count": 1,
   "id": "860f263c-a665-49c2-9d87-fe4df2d4980a",
   "metadata": {},
   "outputs": [
    {
     "data": {
      "text/plain": [
       "<module 'mapillary_utils' from 'D:\\\\projects\\\\geo_image_experiments\\\\src\\\\mapillary_utils.py'>"
      ]
     },
     "execution_count": 1,
     "metadata": {},
     "output_type": "execute_result"
    }
   ],
   "source": [
    "import sys\n",
    "sys.path.append(\"D:\\\\projects\\\\geo_image_experiments\\\\src\")\n",
    "import importlib\n",
    "import mapillary_utils as mu\n",
    "importlib.reload(mu)"
   ]
  },
  {
   "cell_type": "code",
   "execution_count": 2,
   "id": "c3e35a8f-82d6-4dd9-a185-b43d33d6d2bb",
   "metadata": {},
   "outputs": [],
   "source": [
    "import requests\n",
    "from dotenv import load_dotenv\n",
    "from os import getenv\n",
    "\n",
    "from PIL import Image\n",
    "from io import BytesIO\n",
    "import pandas as pd\n",
    "import numpy as np\n",
    "\n",
    "import sqlite3\n",
    "import json\n",
    "\n",
    "import requests\n",
    "\n",
    "\n",
    "pd.set_option('display.max_colwidth', None)"
   ]
  },
  {
   "cell_type": "code",
   "execution_count": 3,
   "id": "8bcaae37-4a81-4a46-9e3f-405668ea9604",
   "metadata": {},
   "outputs": [],
   "source": [
    "test_dir = \"d://projects_working_directories//202408_pano_images\"\n",
    "file = \"360_images_2024-09-02.db\"\n",
    "\n",
    "images_dir = f\"{test_dir}//images\"\n",
    "\n",
    "db_file = f\"{test_dir}//{file}\"\n",
    "\n",
    "load_dotenv()\n",
    "API_KEY = getenv(\"MAPILLARY_CLIENT_TOKEN\")"
   ]
  },
  {
   "cell_type": "code",
   "execution_count": 4,
   "id": "7d123d38-3f78-41d6-aa21-9ee3e9e50e4a",
   "metadata": {},
   "outputs": [],
   "source": [
    "# load sampled images \n",
    "conn = sqlite3.connect(f\"{test_dir}//{file}\")\n",
    "df_sampled_images = pd.read_sql('select * from sampled_images', conn)\n",
    "conn.close()"
   ]
  },
  {
   "cell_type": "code",
   "execution_count": 5,
   "id": "0d9de8d8-d54a-40f2-95a4-5368a5f8fcfc",
   "metadata": {},
   "outputs": [
    {
     "data": {
      "text/html": [
       "<div>\n",
       "<style scoped>\n",
       "    .dataframe tbody tr th:only-of-type {\n",
       "        vertical-align: middle;\n",
       "    }\n",
       "\n",
       "    .dataframe tbody tr th {\n",
       "        vertical-align: top;\n",
       "    }\n",
       "\n",
       "    .dataframe thead th {\n",
       "        text-align: right;\n",
       "    }\n",
       "</style>\n",
       "<table border=\"1\" class=\"dataframe\">\n",
       "  <thead>\n",
       "    <tr style=\"text-align: right;\">\n",
       "      <th></th>\n",
       "      <th>image_lat</th>\n",
       "      <th>image_lon</th>\n",
       "      <th>residual</th>\n",
       "      <th>image_id</th>\n",
       "      <th>camera_type</th>\n",
       "      <th>is_pano</th>\n",
       "      <th>camera_focal_len</th>\n",
       "      <th>camera_k1</th>\n",
       "      <th>camera_k2</th>\n",
       "      <th>image_path</th>\n",
       "      <th>error</th>\n",
       "      <th>image_url</th>\n",
       "      <th>altitude</th>\n",
       "      <th>compass_angle</th>\n",
       "      <th>exif_orientation</th>\n",
       "      <th>make</th>\n",
       "      <th>model</th>\n",
       "      <th>country</th>\n",
       "      <th>city</th>\n",
       "    </tr>\n",
       "  </thead>\n",
       "  <tbody>\n",
       "    <tr>\n",
       "      <th>0</th>\n",
       "      <td>-6.263354</td>\n",
       "      <td>106.784390</td>\n",
       "      <td>177.236655</td>\n",
       "      <td>1505018570392136</td>\n",
       "      <td>spherical</td>\n",
       "      <td>1</td>\n",
       "      <td>None</td>\n",
       "      <td>None</td>\n",
       "      <td>None</td>\n",
       "      <td>None</td>\n",
       "      <td>None</td>\n",
       "      <td>https://scontent.ffsd3-1.fna.fbcdn.net/m1/v/t6/An_BsALpAV6f4DjjTTJtnYEmWGn0qyiZBfqTLBnouxJf8qVF3EXPd4t_dkoFEDG2Yh70iVl5ffChtFrDOEdpPfQK0HnHdO_7pcciHxWJF1NhFRk2YxMIsvOt_8xq2WFpYOar0McXKsL_A4gYBiG-ag?ccb=10-5&amp;oh=00_AYBN0sl2UXdDmOtKX2Vqnq3hIo5ASmzhY3ZOXsv9xyhUsQ&amp;oe=66FDBD62&amp;_nc_sid=201bca</td>\n",
       "      <td>48.755</td>\n",
       "      <td>262.83362725926</td>\n",
       "      <td>1</td>\n",
       "      <td>GoPro</td>\n",
       "      <td>GoPro Max</td>\n",
       "      <td>Indonesia</td>\n",
       "      <td>Jakarta</td>\n",
       "    </tr>\n",
       "    <tr>\n",
       "      <th>1</th>\n",
       "      <td>-7.426615</td>\n",
       "      <td>112.750108</td>\n",
       "      <td>140.153000</td>\n",
       "      <td>1095545924696245</td>\n",
       "      <td>spherical</td>\n",
       "      <td>1</td>\n",
       "      <td>None</td>\n",
       "      <td>None</td>\n",
       "      <td>None</td>\n",
       "      <td>None</td>\n",
       "      <td>None</td>\n",
       "      <td>https://scontent.ffsd3-1.fna.fbcdn.net/m1/v/t6/An9BXK5mtDvCgjbmUTy1wTsPT-jZ52uqemltQp7fSb1M1ShfnsyEuNrmec4hqZrK6J4q4e7u8zH-tpDIMGYQJxyIjVlZIn90bjRyYF1Tkiy9-_cvGzZWewrWw4UN1yxZw86z4_qAXTQKJkVVthCURWc?ccb=10-5&amp;oh=00_AYDCJxd1xmk-ndCM_iZELDbkYcJ0s0bMzge9ksxHDa8eeA&amp;oe=66FDA6B9&amp;_nc_sid=201bca</td>\n",
       "      <td>32.769</td>\n",
       "      <td>0</td>\n",
       "      <td>1</td>\n",
       "      <td>GoPro</td>\n",
       "      <td>GoPro Max</td>\n",
       "      <td>Indonesia</td>\n",
       "      <td>Surabaya</td>\n",
       "    </tr>\n",
       "    <tr>\n",
       "      <th>2</th>\n",
       "      <td>-7.273224</td>\n",
       "      <td>112.638557</td>\n",
       "      <td>217.079601</td>\n",
       "      <td>1564726257278323</td>\n",
       "      <td>spherical</td>\n",
       "      <td>1</td>\n",
       "      <td>None</td>\n",
       "      <td>None</td>\n",
       "      <td>None</td>\n",
       "      <td>None</td>\n",
       "      <td>None</td>\n",
       "      <td>https://scontent.ffsd3-1.fna.fbcdn.net/m1/v/t6/An9C6SQRBJOSyDTV4EtkMPP8Lfacn7bVtbFXUUsO0p-BdB9GskemlmlLksdA_Ac5bq5SP0qQTCpvoVOGbpuajaLNEcza_qv6wYhItBPDJa4UD5Hlq4CzFKIVmOPR3s3_9PfDIxWy472faxLRfbbpWg?ccb=10-5&amp;oh=00_AYClVYLKBogwyqaxRSd7qKx6w0o67yzfN7Xau9KOC9ntgg&amp;oe=66FD8D29&amp;_nc_sid=201bca</td>\n",
       "      <td>58.031</td>\n",
       "      <td>0</td>\n",
       "      <td>1</td>\n",
       "      <td>GoPro</td>\n",
       "      <td>GoPro Max</td>\n",
       "      <td>Indonesia</td>\n",
       "      <td>Surabaya</td>\n",
       "    </tr>\n",
       "  </tbody>\n",
       "</table>\n",
       "</div>"
      ],
      "text/plain": [
       "   image_lat   image_lon    residual          image_id camera_type  is_pano  \\\n",
       "0  -6.263354  106.784390  177.236655  1505018570392136   spherical        1   \n",
       "1  -7.426615  112.750108  140.153000  1095545924696245   spherical        1   \n",
       "2  -7.273224  112.638557  217.079601  1564726257278323   spherical        1   \n",
       "\n",
       "  camera_focal_len camera_k1 camera_k2 image_path error  \\\n",
       "0             None      None      None       None  None   \n",
       "1             None      None      None       None  None   \n",
       "2             None      None      None       None  None   \n",
       "\n",
       "                                                                                                                                                                                                                                                                                         image_url  \\\n",
       "0   https://scontent.ffsd3-1.fna.fbcdn.net/m1/v/t6/An_BsALpAV6f4DjjTTJtnYEmWGn0qyiZBfqTLBnouxJf8qVF3EXPd4t_dkoFEDG2Yh70iVl5ffChtFrDOEdpPfQK0HnHdO_7pcciHxWJF1NhFRk2YxMIsvOt_8xq2WFpYOar0McXKsL_A4gYBiG-ag?ccb=10-5&oh=00_AYBN0sl2UXdDmOtKX2Vqnq3hIo5ASmzhY3ZOXsv9xyhUsQ&oe=66FDBD62&_nc_sid=201bca   \n",
       "1  https://scontent.ffsd3-1.fna.fbcdn.net/m1/v/t6/An9BXK5mtDvCgjbmUTy1wTsPT-jZ52uqemltQp7fSb1M1ShfnsyEuNrmec4hqZrK6J4q4e7u8zH-tpDIMGYQJxyIjVlZIn90bjRyYF1Tkiy9-_cvGzZWewrWw4UN1yxZw86z4_qAXTQKJkVVthCURWc?ccb=10-5&oh=00_AYDCJxd1xmk-ndCM_iZELDbkYcJ0s0bMzge9ksxHDa8eeA&oe=66FDA6B9&_nc_sid=201bca   \n",
       "2   https://scontent.ffsd3-1.fna.fbcdn.net/m1/v/t6/An9C6SQRBJOSyDTV4EtkMPP8Lfacn7bVtbFXUUsO0p-BdB9GskemlmlLksdA_Ac5bq5SP0qQTCpvoVOGbpuajaLNEcza_qv6wYhItBPDJa4UD5Hlq4CzFKIVmOPR3s3_9PfDIxWy472faxLRfbbpWg?ccb=10-5&oh=00_AYClVYLKBogwyqaxRSd7qKx6w0o67yzfN7Xau9KOC9ntgg&oe=66FD8D29&_nc_sid=201bca   \n",
       "\n",
       "   altitude    compass_angle  exif_orientation   make      model    country  \\\n",
       "0    48.755  262.83362725926                 1  GoPro  GoPro Max  Indonesia   \n",
       "1    32.769                0                 1  GoPro  GoPro Max  Indonesia   \n",
       "2    58.031                0                 1  GoPro  GoPro Max  Indonesia   \n",
       "\n",
       "       city  \n",
       "0   Jakarta  \n",
       "1  Surabaya  \n",
       "2  Surabaya  "
      ]
     },
     "execution_count": 5,
     "metadata": {},
     "output_type": "execute_result"
    }
   ],
   "source": [
    "df_sampled_images"
   ]
  },
  {
   "cell_type": "code",
   "execution_count": 6,
   "id": "c7856339-8c13-4b01-84a8-9f2cc6b4f3ba",
   "metadata": {},
   "outputs": [],
   "source": [
    "#image_id = '856814222158020'\n",
    "\n",
    "#image, metadata = mu.get_mapillary_image(image_id, API_KEY, image_size_indicator='thumb_2048_url', image_dir=images_dir)\n",
    "#print(\"Metadata:\", metadata.keys)"
   ]
  },
  {
   "cell_type": "code",
   "execution_count": 7,
   "id": "e4517968-446f-4c61-ba31-d549a8d871eb",
   "metadata": {},
   "outputs": [
    {
     "name": "stdout",
     "output_type": "stream",
     "text": [
      "{'type': 'Point', 'coordinates': [106.7843904, -6.2633539]}\n",
      "{'type': 'Point', 'coordinates': [112.75010779997, -7.4266151]}\n",
      "{'type': 'Point', 'coordinates': [112.6385565, -7.2732235]}\n"
     ]
    }
   ],
   "source": [
    "image_size_cycle = [\n",
    "    #'thumb_original_url','thumb_2048_url'\n",
    "    'thumb_2048_url'\n",
    "]\n",
    "\n",
    "for image_id in df_sampled_images['image_id'].tolist():\n",
    "    for image_size in image_size_cycle:\n",
    "        image, metadata = mu.get_mapillary_image(image_id, API_KEY, image_size_indicator=image_size, image_dir=images_dir)\n",
    "        try:\n",
    "            df_temp = pd.DataFrame.from_dict([metadata])\n",
    "            df_metadata = pd.concat([df_metadata,df_temp], ignore_index=True)\n",
    "        except:\n",
    "            df_metadata = pd.DataFrame.from_dict([metadata])"
   ]
  },
  {
   "cell_type": "code",
   "execution_count": 8,
   "id": "ab0a42ff-22e9-4c9c-9b54-c3a0b16ffc7f",
   "metadata": {},
   "outputs": [],
   "source": [
    "def is_image_original_size(row):\n",
    "    if (row.original_height == row.height) & (row.original_width == row.width):\n",
    "        return 1\n",
    "    else:\n",
    "        return 0\n",
    "\n",
    "df_metadata['is_image_original_size'] = df_metadata.apply(is_image_original_size, axis=1)"
   ]
  },
  {
   "cell_type": "code",
   "execution_count": 9,
   "id": "6078aa1e-bbe3-4570-ab46-0ae8d22a1ab1",
   "metadata": {},
   "outputs": [],
   "source": [
    "conn = sqlite3.connect(db_file)\n",
    "\n",
    "df_metadata.to_sql('image_metadata', con=conn, if_exists='replace', index=False)\n",
    "\n",
    "\n",
    "\n",
    "# Close the connection\n",
    "conn.close()"
   ]
  },
  {
   "cell_type": "markdown",
   "id": "f541144d-5449-438e-abcf-6124653593af",
   "metadata": {},
   "source": [
    "## Add Exif Data Back"
   ]
  },
  {
   "cell_type": "code",
   "execution_count": 10,
   "id": "786f9153-5a7a-4c3d-bb11-c7dd6545491f",
   "metadata": {},
   "outputs": [],
   "source": [
    "from PIL import Image\n",
    "import piexif"
   ]
  },
  {
   "cell_type": "code",
   "execution_count": 11,
   "id": "c2ae6b92-e935-4068-94b4-bbedaa20f8dd",
   "metadata": {},
   "outputs": [],
   "source": [
    "df_metadata = df_metadata.merge(df_sampled_images[['altitude','make','model','image_id']], how='left', left_on='image_id', right_on='image_id')"
   ]
  },
  {
   "cell_type": "code",
   "execution_count": 12,
   "id": "77cbebd1-dcbe-4278-9728-17f318c8fddc",
   "metadata": {},
   "outputs": [
    {
     "data": {
      "text/html": [
       "<div>\n",
       "<style scoped>\n",
       "    .dataframe tbody tr th:only-of-type {\n",
       "        vertical-align: middle;\n",
       "    }\n",
       "\n",
       "    .dataframe tbody tr th {\n",
       "        vertical-align: top;\n",
       "    }\n",
       "\n",
       "    .dataframe thead th {\n",
       "        text-align: right;\n",
       "    }\n",
       "</style>\n",
       "<table border=\"1\" class=\"dataframe\">\n",
       "  <thead>\n",
       "    <tr style=\"text-align: right;\">\n",
       "      <th></th>\n",
       "      <th>guid</th>\n",
       "      <th>image_source</th>\n",
       "      <th>image_id</th>\n",
       "      <th>captured_at_unix</th>\n",
       "      <th>lat</th>\n",
       "      <th>lon</th>\n",
       "      <th>original_height</th>\n",
       "      <th>original_width</th>\n",
       "      <th>height</th>\n",
       "      <th>width</th>\n",
       "      <th>...</th>\n",
       "      <th>compass_angle</th>\n",
       "      <th>is_pano</th>\n",
       "      <th>camera_focal_len</th>\n",
       "      <th>camera_k1</th>\n",
       "      <th>camera_k2</th>\n",
       "      <th>image_path_on_disk</th>\n",
       "      <th>is_image_original_size</th>\n",
       "      <th>altitude</th>\n",
       "      <th>make</th>\n",
       "      <th>model</th>\n",
       "    </tr>\n",
       "  </thead>\n",
       "  <tbody>\n",
       "    <tr>\n",
       "      <th>0</th>\n",
       "      <td>649730a1a36845518d5dc5757e348a1f</td>\n",
       "      <td>mapillary</td>\n",
       "      <td>1505018570392136</td>\n",
       "      <td>1696075183000</td>\n",
       "      <td>-6.263354</td>\n",
       "      <td>106.784390</td>\n",
       "      <td>2880</td>\n",
       "      <td>5760</td>\n",
       "      <td>1024</td>\n",
       "      <td>2048</td>\n",
       "      <td>...</td>\n",
       "      <td>262.833627</td>\n",
       "      <td>True</td>\n",
       "      <td>None</td>\n",
       "      <td>None</td>\n",
       "      <td>None</td>\n",
       "      <td>d://projects_working_directories//202408_pano_images//images//mapillary_1505018570392136_thumb_2048_url.jpg</td>\n",
       "      <td>0</td>\n",
       "      <td>48.755</td>\n",
       "      <td>GoPro</td>\n",
       "      <td>GoPro Max</td>\n",
       "    </tr>\n",
       "    <tr>\n",
       "      <th>1</th>\n",
       "      <td>051a3e7a00c74e0284605f0273b3557c</td>\n",
       "      <td>mapillary</td>\n",
       "      <td>1095545924696245</td>\n",
       "      <td>1658328383000</td>\n",
       "      <td>-7.426615</td>\n",
       "      <td>112.750108</td>\n",
       "      <td>2880</td>\n",
       "      <td>5760</td>\n",
       "      <td>1024</td>\n",
       "      <td>2048</td>\n",
       "      <td>...</td>\n",
       "      <td>0.000000</td>\n",
       "      <td>True</td>\n",
       "      <td>None</td>\n",
       "      <td>None</td>\n",
       "      <td>None</td>\n",
       "      <td>d://projects_working_directories//202408_pano_images//images//mapillary_1095545924696245_thumb_2048_url.jpg</td>\n",
       "      <td>0</td>\n",
       "      <td>32.769</td>\n",
       "      <td>GoPro</td>\n",
       "      <td>GoPro Max</td>\n",
       "    </tr>\n",
       "    <tr>\n",
       "      <th>2</th>\n",
       "      <td>cda51a1a400f4b9789981f12f9908121</td>\n",
       "      <td>mapillary</td>\n",
       "      <td>1564726257278323</td>\n",
       "      <td>1658593288000</td>\n",
       "      <td>-7.273224</td>\n",
       "      <td>112.638557</td>\n",
       "      <td>2880</td>\n",
       "      <td>5760</td>\n",
       "      <td>1024</td>\n",
       "      <td>2048</td>\n",
       "      <td>...</td>\n",
       "      <td>0.000000</td>\n",
       "      <td>True</td>\n",
       "      <td>None</td>\n",
       "      <td>None</td>\n",
       "      <td>None</td>\n",
       "      <td>d://projects_working_directories//202408_pano_images//images//mapillary_1564726257278323_thumb_2048_url.jpg</td>\n",
       "      <td>0</td>\n",
       "      <td>58.031</td>\n",
       "      <td>GoPro</td>\n",
       "      <td>GoPro Max</td>\n",
       "    </tr>\n",
       "  </tbody>\n",
       "</table>\n",
       "<p>3 rows × 21 columns</p>\n",
       "</div>"
      ],
      "text/plain": [
       "                               guid image_source          image_id  \\\n",
       "0  649730a1a36845518d5dc5757e348a1f    mapillary  1505018570392136   \n",
       "1  051a3e7a00c74e0284605f0273b3557c    mapillary  1095545924696245   \n",
       "2  cda51a1a400f4b9789981f12f9908121    mapillary  1564726257278323   \n",
       "\n",
       "   captured_at_unix       lat         lon  original_height  original_width  \\\n",
       "0     1696075183000 -6.263354  106.784390             2880            5760   \n",
       "1     1658328383000 -7.426615  112.750108             2880            5760   \n",
       "2     1658593288000 -7.273224  112.638557             2880            5760   \n",
       "\n",
       "   height  width  ... compass_angle  is_pano  camera_focal_len camera_k1  \\\n",
       "0    1024   2048  ...    262.833627     True              None      None   \n",
       "1    1024   2048  ...      0.000000     True              None      None   \n",
       "2    1024   2048  ...      0.000000     True              None      None   \n",
       "\n",
       "  camera_k2  \\\n",
       "0      None   \n",
       "1      None   \n",
       "2      None   \n",
       "\n",
       "                                                                                            image_path_on_disk  \\\n",
       "0  d://projects_working_directories//202408_pano_images//images//mapillary_1505018570392136_thumb_2048_url.jpg   \n",
       "1  d://projects_working_directories//202408_pano_images//images//mapillary_1095545924696245_thumb_2048_url.jpg   \n",
       "2  d://projects_working_directories//202408_pano_images//images//mapillary_1564726257278323_thumb_2048_url.jpg   \n",
       "\n",
       "  is_image_original_size  altitude   make      model  \n",
       "0                      0    48.755  GoPro  GoPro Max  \n",
       "1                      0    32.769  GoPro  GoPro Max  \n",
       "2                      0    58.031  GoPro  GoPro Max  \n",
       "\n",
       "[3 rows x 21 columns]"
      ]
     },
     "execution_count": 12,
     "metadata": {},
     "output_type": "execute_result"
    }
   ],
   "source": [
    "df_metadata"
   ]
  },
  {
   "cell_type": "code",
   "execution_count": 13,
   "id": "bead1cd8-1cc5-445d-81a0-931a757dad7d",
   "metadata": {},
   "outputs": [
    {
     "name": "stdout",
     "output_type": "stream",
     "text": [
      "Latitude: 6 13m 22.5552s S, Longitude:  106 50m 1.0176s E\n"
     ]
    }
   ],
   "source": [
    "from geopy import Point\n",
    "from geopy.distance import distance\n",
    "\n",
    "# Decimal to DMS\n",
    "def decimal_to_dms(lat, lon):\n",
    "    point = Point(latitude=lat, longitude=lon)\n",
    "    \n",
    "    \n",
    "    lat_dms = point.format().split(',')[0]\n",
    "    lon_dms = point.format().split(',')[1]\n",
    "    \n",
    "    return lat_dms, lon_dms\n",
    "\n",
    "\n",
    "lat, lon = -6.222932, 106.833616\n",
    "lat_dms, lon_dms = decimal_to_dms(lat, lon)\n",
    "print(f\"Latitude: {lat_dms}, Longitude: {lon_dms}\")"
   ]
  },
  {
   "cell_type": "code",
   "execution_count": 14,
   "id": "a679422c-b386-47e7-b8dd-a2ceb9e64beb",
   "metadata": {},
   "outputs": [
    {
     "data": {
      "text/plain": [
       "'1970:01:01 00:00:01'"
      ]
     },
     "execution_count": 14,
     "metadata": {},
     "output_type": "execute_result"
    }
   ],
   "source": [
    "\n",
    "\n",
    "from datetime import datetime\n",
    "\n",
    "def unix_to_exif_datetime(unix_timestamp):\n",
    "    # Convert Unix timestamp to a datetime object\n",
    "    dt = datetime.utcfromtimestamp(unix_timestamp)\n",
    "    \n",
    "    # Format datetime as \"YYYY:MM:DD HH:MM:SS\"\n",
    "    exif_datetime = dt.strftime(\"%Y:%m:%d %H:%M:%S\")\n",
    "    \n",
    "    return exif_datetime\n",
    "    \n",
    "unix_to_exif_datetime(1000 / 1000)\n"
   ]
  },
  {
   "cell_type": "code",
   "execution_count": 15,
   "id": "452315e9-513b-45b6-a832-b6f8c6445217",
   "metadata": {},
   "outputs": [
    {
     "name": "stdout",
     "output_type": "stream",
     "text": [
      "{271: 'GoPro', 272: '360 Max'}\n",
      "{36867: '1970:01:01 00:00:01', 42035: '', 42036: ''}\n"
     ]
    }
   ],
   "source": [
    "def build_exif_0th(make='', model=''):\n",
    "    \n",
    "    zero_th =  {\n",
    "        piexif.ImageIFD.Make: make,\n",
    "        piexif.ImageIFD.Model: model\n",
    "    }\n",
    "\n",
    "    return zero_th\n",
    "\n",
    "def build_exif_exif(datetime=1000, lensmake=None, lensmodel=None):\n",
    "    \n",
    "    \n",
    "    exif = {\n",
    "        piexif.ExifIFD.DateTimeOriginal: unix_to_exif_datetime(datetime / 1000),\n",
    "        piexif.ExifIFD.LensMake: \"\",\n",
    "        piexif.ExifIFD.LensModel: \"\"\n",
    "    }\n",
    "\n",
    "    return exif\n",
    "\n",
    "print(build_exif_0th(make='GoPro', model='360 Max'))\n",
    "print(build_exif_exif(datetime=1000))\n"
   ]
  },
  {
   "cell_type": "code",
   "execution_count": 16,
   "id": "1d7220f8-42c4-4c27-ba52-23093e682bf1",
   "metadata": {},
   "outputs": [
    {
     "name": "stdout",
     "output_type": "stream",
     "text": [
      "37 46m 29.64s N, 122 25m 9.84s W\n"
     ]
    },
    {
     "data": {
      "text/plain": [
       "{1: b'N',\n",
       " 2: ((37, 1), (46, 1), (29640, 1000)),\n",
       " 3: b'W',\n",
       " 4: ((122, 1), (25, 1), (9840, 1000))}"
      ]
     },
     "execution_count": 16,
     "metadata": {},
     "output_type": "execute_result"
    }
   ],
   "source": [
    "def build_exif_gps(lat, lon):\n",
    "    # pass in lat/lon in decimal format\n",
    "    # then convert it to a string\n",
    "    # then convert to exif format\n",
    "    # \n",
    "    # can probably convert directly but\n",
    "    # I don't know how\n",
    "    \n",
    "\n",
    "    \n",
    "    def split_elements(element):\n",
    "        def to_rational(number):\n",
    "            # Convert a number to a rational tuple (numerator, denominator)\n",
    "            return (int(number * 1000), 1000)\n",
    "    \n",
    "    \n",
    "        degrees, minutes, seconds, reference = element.split()\n",
    "        degrees = abs(int(degrees))\n",
    "        minutes = int(minutes[0:-1])\n",
    "        seconds = to_rational(float(seconds[0:-1]))\n",
    "\n",
    "        return ((degrees,1),(minutes,1),seconds) , reference\n",
    "\n",
    "    \n",
    "    point = Point(lat, lon)\n",
    "    string_point = point.format()\n",
    "    string_lat, string_lon = string_point.split(', ')\n",
    "    \n",
    "    print(string_point)\n",
    "    \n",
    "    lat_elements, lat_ref = split_elements(string_lat)\n",
    "    lon_elements, lon_ref = split_elements(string_lon)\n",
    "\n",
    "    gps_ifd = {\n",
    "        piexif.GPSIFD.GPSLatitudeRef: lat_ref.encode(),\n",
    "        piexif.GPSIFD.GPSLatitude: lat_elements,\n",
    "        piexif.GPSIFD.GPSLongitudeRef: lon_ref.encode(),\n",
    "        piexif.GPSIFD.GPSLongitude: lon_elements,\n",
    "    }\n",
    "\n",
    "    return gps_ifd\n",
    "\n",
    "build_exif_gps(37.7749, -122.4194)"
   ]
  },
  {
   "cell_type": "code",
   "execution_count": 17,
   "id": "11a90787-26ba-4511-ac89-76bf8d12b685",
   "metadata": {},
   "outputs": [
    {
     "name": "stdout",
     "output_type": "stream",
     "text": [
      "6 15m 48.074s S, 106 47m 3.80544s E\n",
      "{271: 'GoPro', 272: 'GoPro Max'}\n",
      "7 25m 35.8144s S, 112 45m 0.38808s E\n",
      "{271: 'GoPro', 272: 'GoPro Max'}\n",
      "7 16m 23.6046s S, 112 38m 18.8034s E\n",
      "{271: 'GoPro', 272: 'GoPro Max'}\n"
     ]
    }
   ],
   "source": [
    "def generate_exif_data(row):\n",
    "    \n",
    "    zero_th = build_exif_0th(make=row.make, model=row.model)\n",
    "    exif = build_exif_exif(datetime=row.captured_at_unix)\n",
    "    gps = build_exif_gps(row.lat, row.lon)\n",
    "\n",
    "    print(zero_th)\n",
    "\n",
    "    exif_data = {\n",
    "        \"0th\" : zero_th,\n",
    "        \"Exif\" : exif,\n",
    "        \"GPS\" : gps\n",
    "\n",
    "    }\n",
    "\n",
    "    return exif_data\n",
    "\n",
    "df_metadata['exif_dict'] = df_metadata.apply(generate_exif_data, axis=1)"
   ]
  },
  {
   "cell_type": "code",
   "execution_count": 23,
   "id": "299a2e04-4e45-4796-bb3b-c14d4042487a",
   "metadata": {},
   "outputs": [],
   "source": [
    "df_metadata = df_metadata.merge(df_sampled_images, how='left', left_on='image_id', right_on='image_id')\n",
    "df_metadata.to_excel(\"c://temp//foo.xlsx\")"
   ]
  },
  {
   "cell_type": "code",
   "execution_count": 19,
   "id": "865203ea-5241-4c4f-974e-3f045f37d1b5",
   "metadata": {},
   "outputs": [],
   "source": [
    "def add_exif(image_path, exif_data):\n",
    "\n",
    "    # Open the image\n",
    "    image = Image.open(image_path)\n",
    "\n",
    "    output_path = image_path + \"with_exif.jpg\"\n",
    "\n",
    "    # Extract existing EXIF data (if any)\n",
    "    existing_exif = image.info.get('exif')\n",
    "\n",
    "\n",
    "    # Load existing EXIF data\n",
    "    exif_dict = piexif.load(existing_exif) if existing_exif else {\"0th\": {}, \"Exif\": {}, \"GPS\": {}, \"1st\": {}, \"thumbnail\": None}\n",
    "    print(exif_dict)\n",
    "\n",
    "    # Modify or add new EXIF tags\n",
    "    for ifd in (\"0th\", \"Exif\", \"GPS\", \"1st\"):\n",
    "        if ifd in exif_data:\n",
    "            for tag, value in exif_data[ifd].items():\n",
    "                print(f\"{tag} - {value} - {ifd}\")\n",
    "                exif_dict[ifd][tag] = value\n",
    "\n",
    "    # Convert the modified EXIF data back to binary\n",
    "    exif_bytes = piexif.dump(exif_dict)\n",
    "\n",
    "    # Save the image with the new EXIF data\n",
    "    print(output_path)\n",
    "    image.save(output_path, exif=exif_bytes)\n",
    "\n",
    "\n",
    "exif_data = {\n",
    "    \"0th\": {\n",
    "        piexif.ImageIFD.Make: \"Camera Brand\",\n",
    "        piexif.ImageIFD.Model: \"Camera Model\",\n",
    "        piexif.ImageIFD.Software: \"My Software\"\n",
    "    },\n",
    "    \"Exif\": {\n",
    "        piexif.ExifIFD.DateTimeOriginal: \"2024:08:31 12:34:56\",\n",
    "        piexif.ExifIFD.LensMake: \"Lens Brand\",\n",
    "        piexif.ExifIFD.LensModel: \"Lens Model\"\n",
    "    },\n",
    "    \"GPS\": {\n",
    "        piexif.GPSIFD.GPSLatitudeRef: \"N\",\n",
    "        piexif.GPSIFD.GPSLatitude: ((40, 1), (0, 1), (0, 100)),  # 40 degrees\n",
    "        piexif.GPSIFD.GPSLongitudeRef: \"W\",\n",
    "        piexif.GPSIFD.GPSLongitude: ((74, 1), (0, 1), (0, 100)),  # 74 degrees\n",
    "    }\n",
    "}\n",
    "\n",
    "#add_exif('d://projects_working_directories//202408_pano_images//images//mapillary_1332341057452601_thumb_2048_url.jpg', exif_data)"
   ]
  },
  {
   "cell_type": "code",
   "execution_count": 20,
   "id": "c3053d08-c843-4c78-a2dd-a9b4a292fad1",
   "metadata": {},
   "outputs": [
    {
     "name": "stdout",
     "output_type": "stream",
     "text": [
      "{'0th': {}, 'Exif': {}, 'GPS': {}, '1st': {}, 'thumbnail': None}\n",
      "271 - GoPro - 0th\n",
      "272 - GoPro Max - 0th\n",
      "36867 - 2023:09:30 11:59:43 - Exif\n",
      "42035 -  - Exif\n",
      "42036 -  - Exif\n",
      "1 - b'S' - GPS\n",
      "2 - ((6, 1), (15, 1), (48074, 1000)) - GPS\n",
      "3 - b'E' - GPS\n",
      "4 - ((106, 1), (47, 1), (3805, 1000)) - GPS\n",
      "d://projects_working_directories//202408_pano_images//images//mapillary_1505018570392136_thumb_2048_url.jpgwith_exif.jpg\n",
      "{'0th': {}, 'Exif': {}, 'GPS': {}, '1st': {}, 'thumbnail': None}\n",
      "271 - GoPro - 0th\n",
      "272 - GoPro Max - 0th\n",
      "36867 - 2022:07:20 14:46:23 - Exif\n",
      "42035 -  - Exif\n",
      "42036 -  - Exif\n",
      "1 - b'S' - GPS\n",
      "2 - ((7, 1), (25, 1), (35814, 1000)) - GPS\n",
      "3 - b'E' - GPS\n",
      "4 - ((112, 1), (45, 1), (388, 1000)) - GPS\n",
      "d://projects_working_directories//202408_pano_images//images//mapillary_1095545924696245_thumb_2048_url.jpgwith_exif.jpg\n",
      "{'0th': {}, 'Exif': {}, 'GPS': {}, '1st': {}, 'thumbnail': None}\n",
      "271 - GoPro - 0th\n",
      "272 - GoPro Max - 0th\n",
      "36867 - 2022:07:23 16:21:28 - Exif\n",
      "42035 -  - Exif\n",
      "42036 -  - Exif\n",
      "1 - b'S' - GPS\n",
      "2 - ((7, 1), (16, 1), (23604, 1000)) - GPS\n",
      "3 - b'E' - GPS\n",
      "4 - ((112, 1), (38, 1), (18803, 1000)) - GPS\n",
      "d://projects_working_directories//202408_pano_images//images//mapillary_1564726257278323_thumb_2048_url.jpgwith_exif.jpg\n"
     ]
    },
    {
     "data": {
      "text/plain": [
       "0    None\n",
       "1    None\n",
       "2    None\n",
       "dtype: object"
      ]
     },
     "execution_count": 20,
     "metadata": {},
     "output_type": "execute_result"
    }
   ],
   "source": [
    "df_metadata.apply(lambda x: add_exif(x.image_path_on_disk, x.exif_dict), axis=1)"
   ]
  },
  {
   "cell_type": "code",
   "execution_count": null,
   "id": "8df88468-c21f-40c8-9728-87e739d51865",
   "metadata": {},
   "outputs": [],
   "source": []
  }
 ],
 "metadata": {
  "kernelspec": {
   "display_name": "Python 3 (ipykernel)",
   "language": "python",
   "name": "python3"
  },
  "language_info": {
   "codemirror_mode": {
    "name": "ipython",
    "version": 3
   },
   "file_extension": ".py",
   "mimetype": "text/x-python",
   "name": "python",
   "nbconvert_exporter": "python",
   "pygments_lexer": "ipython3",
   "version": "3.11.5"
  }
 },
 "nbformat": 4,
 "nbformat_minor": 5
}
