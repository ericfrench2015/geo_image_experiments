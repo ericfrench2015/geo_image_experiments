{
 "cells": [
  {
   "cell_type": "markdown",
   "id": "ace2c2f9-3c4f-4123-93bc-e53477612222",
   "metadata": {},
   "source": [
    "## This file helps merge multiple annotation files\n",
    "\n",
    "### The json format has 2 lists of import\n",
    "1) list of images with ids incrementing from 1\n",
    "2) list of annotations with ids incrementing from 1, and references to the image ids in #1\n",
    "\n",
    "This makes combining files a little tricky, because you have to reindex everything. That's what\n",
    "this script does"
   ]
  },
  {
   "cell_type": "code",
   "execution_count": 67,
   "id": "763d3be8-3d39-44cc-8a97-38ac9ef3806a",
   "metadata": {},
   "outputs": [],
   "source": [
    "import pandas as pd\n",
    "import numpy as np\n",
    "import json\n",
    "import os\n",
    "import pprint\n",
    "import random"
   ]
  },
  {
   "cell_type": "markdown",
   "id": "752ab5e5-bac8-474b-b8c4-31e75f63dc6a",
   "metadata": {},
   "source": [
    "## read in all json files in a directory"
   ]
  },
  {
   "cell_type": "code",
   "execution_count": 94,
   "id": "ef32ab4a-7210-48be-a58b-1496fdabf8a5",
   "metadata": {},
   "outputs": [],
   "source": [
    "path = \"D://projects_working_directories//imagery_analysis//3_coco_files//\"\n",
    "key_constants = ['licenses', 'info', 'categories'] # these are the keys in the file that have the same content\n",
    "key_vars = ['images', 'annotations'] #t these are the keys in the file that have variable content\n",
    "files = os.listdir(path)\n",
    "files = [f\"{path}{f}\" for f in files if f.split('.')[1] == 'json']\n"
   ]
  },
  {
   "cell_type": "code",
   "execution_count": 95,
   "id": "9f15618e-208b-4310-b687-be59cf792370",
   "metadata": {},
   "outputs": [],
   "source": [
    "def read_file(f):\n",
    "    with open(f, 'r') as file:\n",
    "        data = json.load(file)\n",
    "    return data\n",
    "\n",
    "def map_orig_imageid_to_new(orig_id):\n",
    "    # pass in the original image id reference (compound key of original image id and file name)\n",
    "    return df_images['id'][df_images['orig_image_key'] == orig_id].tolist()[0]\n"
   ]
  },
  {
   "cell_type": "markdown",
   "id": "839e18e0-e0f6-40d5-a59e-41c3ad04f7b6",
   "metadata": {},
   "source": [
    "## build a dataframe for images and annotations respectively"
   ]
  },
  {
   "cell_type": "code",
   "execution_count": 71,
   "id": "a3e66712-781b-4b1f-a7a7-5df38a0cb819",
   "metadata": {},
   "outputs": [],
   "source": [
    "df_images = pd.DataFrame()\n",
    "df_annotations = pd.DataFrame()\n",
    "for f in files:\n",
    "\n",
    "    #images \n",
    "    data_i = read_file(f)['images']\n",
    "    temp_df = pd.DataFrame(data_i)\n",
    "    temp_df['source'] = f\n",
    "\n",
    "    df_images = pd.concat([df_images,temp_df], ignore_index=True)\n",
    "\n",
    "    #annotations \n",
    "    data_a = read_file(f)['annotations']\n",
    "    temp_df = pd.DataFrame(data_a)\n",
    "    temp_df['source'] = f\n",
    "\n",
    "    df_annotations = pd.concat([df_annotations,temp_df], ignore_index=True)\n",
    "\n",
    "# preserve original fields for later\n",
    "original_image_fields = list( data_i[0].keys() )\n",
    "original_annotation_fields = list( data_a[0].keys() )"
   ]
  },
  {
   "cell_type": "markdown",
   "id": "d4d01b51-dc02-4fbb-8909-94e49c5570e5",
   "metadata": {},
   "source": [
    "## ID manipulations\n",
    "1) preserve original ids\n",
    "2) create a compound key for image ids to make them unique across the whole dataset\n",
    "3) reset the ids so they are an int unique across the dataset"
   ]
  },
  {
   "cell_type": "code",
   "execution_count": 97,
   "id": "d0bf8457-f24c-4f87-ab13-937e34ca0318",
   "metadata": {},
   "outputs": [],
   "source": [
    "# \"back up\" original ids\n",
    "df_images['orig_id'] = df_images['id']\n",
    "df_images['orig_image_key'] = df_images['orig_id'].astype(str) + df_images['source']\n",
    "\n",
    "df_annotations['orig_id'] = df_annotations['id']\n",
    "df_annotations['orig_image_id'] = df_annotations['image_id']\n",
    "df_annotations['orig_image_key'] = df_annotations['orig_image_id'].astype(str) + df_annotations['source']"
   ]
  },
  {
   "cell_type": "code",
   "execution_count": 75,
   "id": "4e3e571b-8639-47fa-b182-4369f06570d1",
   "metadata": {},
   "outputs": [],
   "source": [
    "# reset the ids so there are no duplicates, starting at 1\n",
    "df_images['id'] = df_images.index + 1\n",
    "df_annotations['id'] = df_annotations.index + 1"
   ]
  },
  {
   "cell_type": "code",
   "execution_count": 84,
   "id": "25c7ef83-f597-4c10-a817-84ec8e50ec6d",
   "metadata": {},
   "outputs": [],
   "source": [
    "# given the original compound key, look up the new, unique id\n",
    "df_annotations['image_id'] = df_annotations['orig_image_key'].apply(map_orig_imageid_to_new)"
   ]
  },
  {
   "cell_type": "code",
   "execution_count": 87,
   "id": "84f16265-a1a6-4b9a-9862-38bb0b2f5891",
   "metadata": {},
   "outputs": [],
   "source": [
    "# write dfs to file for qa\n",
    "df_annotations.to_excel(f\"{path}//annotations.xlsx\", index=False)\n",
    "df_images.to_excel(f\"{path}//images.xlsx\", index=False)"
   ]
  },
  {
   "cell_type": "markdown",
   "id": "55f2ece1-9a4e-4df6-a231-efdd23b9369f",
   "metadata": {},
   "source": [
    "## rebuild the json"
   ]
  },
  {
   "cell_type": "code",
   "execution_count": 89,
   "id": "f2d40fb3-7032-4213-b1a4-4ad1dd34b662",
   "metadata": {},
   "outputs": [],
   "source": [
    "# remove the 'task' part of the filename\n",
    "def scrub_image_filename(original_image_file):\n",
    "    return original_image_file.split('/')[1]\n",
    "\n",
    "df_images['file_name'] = df_images['file_name'].apply(scrub_image_filename)"
   ]
  },
  {
   "cell_type": "code",
   "execution_count": 90,
   "id": "f45634ff-4aa3-4c0c-a50f-090fadd41117",
   "metadata": {},
   "outputs": [],
   "source": [
    "images = df_images[original_image_fields].to_dict('records')\n",
    "annotations = df_annotations[original_annotation_fields].to_dict('records')"
   ]
  },
  {
   "cell_type": "code",
   "execution_count": 91,
   "id": "d2c89689-db2c-486c-8e56-ec46bc42cb51",
   "metadata": {},
   "outputs": [],
   "source": [
    "output_json = {} \n",
    "for k in ['licenses', 'info', 'categories']:\n",
    "    data = read_file(files[0])\n",
    "    output_json[k] = data[k]\n",
    "\n",
    "output_json['images'] = images\n",
    "output_json['images'] = images\n",
    "output_json['annotations'] = annotations\n",
    "    "
   ]
  },
  {
   "cell_type": "code",
   "execution_count": 93,
   "id": "026c9780-2cf5-46be-a7c1-46ebe77d9c48",
   "metadata": {},
   "outputs": [],
   "source": [
    "with open(\"c://temp//combined_annotations.json\", \"w\") as outfile: \n",
    "    json.dump(output_json, outfile)\n"
   ]
  },
  {
   "cell_type": "code",
   "execution_count": null,
   "id": "db2db484-f30c-4a73-b510-82a25ee1fe81",
   "metadata": {},
   "outputs": [],
   "source": []
  }
 ],
 "metadata": {
  "kernelspec": {
   "display_name": "Python 3 (ipykernel)",
   "language": "python",
   "name": "python3"
  },
  "language_info": {
   "codemirror_mode": {
    "name": "ipython",
    "version": 3
   },
   "file_extension": ".py",
   "mimetype": "text/x-python",
   "name": "python",
   "nbconvert_exporter": "python",
   "pygments_lexer": "ipython3",
   "version": "3.11.5"
  }
 },
 "nbformat": 4,
 "nbformat_minor": 5
}
